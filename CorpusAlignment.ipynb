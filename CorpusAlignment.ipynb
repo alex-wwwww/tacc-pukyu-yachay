{
 "cells": [
  {
   "cell_type": "code",
   "execution_count": 1,
   "metadata": {},
   "outputs": [
    {
     "name": "stderr",
     "output_type": "stream",
     "text": [
      "c:\\Users\\Angel\\AppData\\Local\\Programs\\Python\\Python310\\lib\\site-packages\\tqdm\\auto.py:21: TqdmWarning: IProgress not found. Please update jupyter and ipywidgets. See https://ipywidgets.readthedocs.io/en/stable/user_install.html\n",
      "  from .autonotebook import tqdm as notebook_tqdm\n"
     ]
    }
   ],
   "source": [
    "import os\n",
    "import pandas as pd\n",
    "from datasets import Dataset, DatasetDict\n",
    "from sklearn.model_selection import train_test_split\n",
    "import re\n",
    "import string"
   ]
  },
  {
   "cell_type": "code",
   "execution_count": 2,
   "metadata": {},
   "outputs": [],
   "source": [
    "# Specify the directory containing the files\n",
    "directory = 'D:\\\\PUCP\\\\2024-1\\\\Temas Avanzados en Ciencias de la Computacion\\\\Proyecto\\\\tacc-pukyu-yachay\\\\Corpus-Aprendizaje'"
   ]
  },
  {
   "cell_type": "code",
   "execution_count": 3,
   "metadata": {},
   "outputs": [],
   "source": [
    "all_files = os.listdir(directory)"
   ]
  },
  {
   "cell_type": "code",
   "execution_count": 4,
   "metadata": {},
   "outputs": [],
   "source": [
    "es_files = [f for f in all_files if f.endswith('.es')]\n",
    "quy_files = [f for f in all_files if f.endswith('.quy')]"
   ]
  },
  {
   "cell_type": "code",
   "execution_count": 5,
   "metadata": {},
   "outputs": [],
   "source": [
    "es_files.sort()\n",
    "quy_files.sort()"
   ]
  },
  {
   "cell_type": "code",
   "execution_count": 6,
   "metadata": {},
   "outputs": [],
   "source": [
    "spanish_csv = 'spanish.csv'\n",
    "quechua_csv = 'quechua.csv'"
   ]
  },
  {
   "cell_type": "code",
   "execution_count": 7,
   "metadata": {},
   "outputs": [],
   "source": [
    "def read_file_content(filepath):\n",
    "    with open(filepath, 'r', encoding='utf-8') as file:\n",
    "        return file.read().split('\\n')"
   ]
  },
  {
   "cell_type": "code",
   "execution_count": 8,
   "metadata": {},
   "outputs": [
    {
     "name": "stdout",
     "output_type": "stream",
     "text": [
      "34831\n"
     ]
    }
   ],
   "source": [
    "content = read_file_content(os.path.join(directory, es_files[0]))\n",
    "print(len(content))"
   ]
  },
  {
   "cell_type": "code",
   "execution_count": 9,
   "metadata": {},
   "outputs": [],
   "source": [
    "spanish_corpus = []\n",
    "for es_file in es_files:\n",
    "    filepath = os.path.join(directory, es_file)\n",
    "    content = read_file_content(filepath)\n",
    "    spanish_corpus.extend(content)"
   ]
  },
  {
   "cell_type": "code",
   "execution_count": 10,
   "metadata": {},
   "outputs": [],
   "source": [
    "quechua_corpus = []\n",
    "for quy_file in quy_files:\n",
    "    filepath = os.path.join(directory, quy_file)\n",
    "    content = read_file_content(filepath)\n",
    "    quechua_corpus.extend(content)"
   ]
  },
  {
   "cell_type": "code",
   "execution_count": 11,
   "metadata": {},
   "outputs": [
    {
     "name": "stdout",
     "output_type": "stream",
     "text": [
      "181572\n"
     ]
    }
   ],
   "source": [
    "print(len(spanish_corpus))"
   ]
  },
  {
   "cell_type": "code",
   "execution_count": 12,
   "metadata": {},
   "outputs": [
    {
     "name": "stdout",
     "output_type": "stream",
     "text": [
      "181572\n"
     ]
    }
   ],
   "source": [
    "print(len(quechua_corpus))"
   ]
  },
  {
   "cell_type": "code",
   "execution_count": 13,
   "metadata": {},
   "outputs": [],
   "source": [
    "def preprocesamiento(lista_cadenas):\n",
    "    resultado = []\n",
    "    signos_a_eliminar = string.punctuation + '\"' + '¿' + '¡'\n",
    "    for cadena in lista_cadenas:\n",
    "        cadena = cadena.translate(str.maketrans('', '', signos_a_eliminar))\n",
    "        cadena = cadena.lower()\n",
    "        cadena = cadena.split()\n",
    "        cadena = ' '.join(cadena)\n",
    "        resultado.append(cadena)\n",
    "    return resultado"
   ]
  },
  {
   "cell_type": "code",
   "execution_count": 14,
   "metadata": {},
   "outputs": [],
   "source": [
    "spanish_corpus = preprocesamiento(spanish_corpus)\n",
    "quechua_corpus = preprocesamiento(quechua_corpus)"
   ]
  },
  {
   "cell_type": "code",
   "execution_count": 15,
   "metadata": {},
   "outputs": [
    {
     "data": {
      "text/plain": [
       "'en el principio creó dios los cielos y la tierra'"
      ]
     },
     "execution_count": 15,
     "metadata": {},
     "output_type": "execute_result"
    }
   ],
   "source": [
    "spanish_corpus[0]"
   ]
  },
  {
   "cell_type": "code",
   "execution_count": 16,
   "metadata": {},
   "outputs": [
    {
     "data": {
      "text/plain": [
       "'tukuy imapa qallariyninpi cielokunata hinaspa kay pachata dios unanchaptinmi'"
      ]
     },
     "execution_count": 16,
     "metadata": {},
     "output_type": "execute_result"
    }
   ],
   "source": [
    "quechua_corpus[0]"
   ]
  },
  {
   "cell_type": "code",
   "execution_count": 17,
   "metadata": {},
   "outputs": [],
   "source": [
    "assert len(spanish_corpus) == len(quechua_corpus)"
   ]
  },
  {
   "cell_type": "code",
   "execution_count": 18,
   "metadata": {},
   "outputs": [],
   "source": [
    "data = [{'es': es, 'quy': quy} for es, quy in zip(spanish_corpus, quechua_corpus)]"
   ]
  },
  {
   "cell_type": "code",
   "execution_count": 19,
   "metadata": {},
   "outputs": [],
   "source": [
    "resultado = [{'translations': f\"{quy} ###>{es}\"} for es, quy in zip(spanish_corpus, quechua_corpus)]"
   ]
  },
  {
   "cell_type": "code",
   "execution_count": 20,
   "metadata": {},
   "outputs": [
    {
     "data": {
      "text/plain": [
       "[{'translations': 'tukuy imapa qallariyninpi cielokunata hinaspa kay pachata dios unanchaptinmi ###>en el principio creó dios los cielos y la tierra'},\n",
       " {'translations': 'kay pacha karqa mana formayoq hinaspa mana imayoq ukuuku tutayaq lamar qocham karqa diospa espiritunpas yakukunapa hawanpim muyurqa ###>y la tierra estaba sin orden y vacía y las tinieblas cubrían la superficie del abismo y el espíritu de dios se movía sobre la superficie de las aguas'}]"
      ]
     },
     "execution_count": 20,
     "metadata": {},
     "output_type": "execute_result"
    }
   ],
   "source": [
    "resultado[:2]"
   ]
  },
  {
   "cell_type": "code",
   "execution_count": 21,
   "metadata": {},
   "outputs": [],
   "source": [
    "resultado_df = pd.DataFrame(resultado)\n",
    "resultado_df.columns = ['translations']"
   ]
  },
  {
   "cell_type": "code",
   "execution_count": 22,
   "metadata": {},
   "outputs": [
    {
     "data": {
      "text/html": [
       "<div>\n",
       "<style scoped>\n",
       "    .dataframe tbody tr th:only-of-type {\n",
       "        vertical-align: middle;\n",
       "    }\n",
       "\n",
       "    .dataframe tbody tr th {\n",
       "        vertical-align: top;\n",
       "    }\n",
       "\n",
       "    .dataframe thead th {\n",
       "        text-align: right;\n",
       "    }\n",
       "</style>\n",
       "<table border=\"1\" class=\"dataframe\">\n",
       "  <thead>\n",
       "    <tr style=\"text-align: right;\">\n",
       "      <th></th>\n",
       "      <th>translations</th>\n",
       "    </tr>\n",
       "  </thead>\n",
       "  <tbody>\n",
       "    <tr>\n",
       "      <th>0</th>\n",
       "      <td>tukuy imapa qallariyninpi cielokunata hinaspa ...</td>\n",
       "    </tr>\n",
       "    <tr>\n",
       "      <th>1</th>\n",
       "      <td>kay pacha karqa mana formayoq hinaspa mana ima...</td>\n",
       "    </tr>\n",
       "  </tbody>\n",
       "</table>\n",
       "</div>"
      ],
      "text/plain": [
       "                                        translations\n",
       "0  tukuy imapa qallariyninpi cielokunata hinaspa ...\n",
       "1  kay pacha karqa mana formayoq hinaspa mana ima..."
      ]
     },
     "execution_count": 22,
     "metadata": {},
     "output_type": "execute_result"
    }
   ],
   "source": [
    "resultado_df.head(2)"
   ]
  },
  {
   "cell_type": "code",
   "execution_count": 23,
   "metadata": {},
   "outputs": [],
   "source": [
    "train_data, validation_data = train_test_split(resultado, test_size=0.2, random_state=42)"
   ]
  },
  {
   "cell_type": "code",
   "execution_count": 24,
   "metadata": {},
   "outputs": [],
   "source": [
    "train_dataset = Dataset.from_list(train_data)\n",
    "validation_dataset = Dataset.from_list(validation_data)"
   ]
  },
  {
   "cell_type": "code",
   "execution_count": 25,
   "metadata": {},
   "outputs": [],
   "source": [
    "dataset_dict = DatasetDict({\n",
    "    'train': train_dataset,\n",
    "    'validation': validation_dataset\n",
    "})"
   ]
  },
  {
   "cell_type": "code",
   "execution_count": 26,
   "metadata": {},
   "outputs": [
    {
     "name": "stdout",
     "output_type": "stream",
     "text": [
      "DatasetDict({\n",
      "    train: Dataset({\n",
      "        features: ['translations'],\n",
      "        num_rows: 145257\n",
      "    })\n",
      "    validation: Dataset({\n",
      "        features: ['translations'],\n",
      "        num_rows: 36315\n",
      "    })\n",
      "})\n"
     ]
    }
   ],
   "source": [
    "print(dataset_dict)"
   ]
  },
  {
   "cell_type": "code",
   "execution_count": 27,
   "metadata": {},
   "outputs": [],
   "source": [
    "train_df = pd.DataFrame(train_data)\n",
    "train_df.columns = ['translations']\n",
    "\n",
    "val_df = pd.DataFrame(validation_data)\n",
    "val_df.columns = ['translations']"
   ]
  },
  {
   "cell_type": "code",
   "execution_count": 28,
   "metadata": {},
   "outputs": [
    {
     "data": {
      "text/html": [
       "<div>\n",
       "<style scoped>\n",
       "    .dataframe tbody tr th:only-of-type {\n",
       "        vertical-align: middle;\n",
       "    }\n",
       "\n",
       "    .dataframe tbody tr th {\n",
       "        vertical-align: top;\n",
       "    }\n",
       "\n",
       "    .dataframe thead th {\n",
       "        text-align: right;\n",
       "    }\n",
       "</style>\n",
       "<table border=\"1\" class=\"dataframe\">\n",
       "  <thead>\n",
       "    <tr style=\"text-align: right;\">\n",
       "      <th></th>\n",
       "      <th>translations</th>\n",
       "    </tr>\n",
       "  </thead>\n",
       "  <tbody>\n",
       "    <tr>\n",
       "      <th>0</th>\n",
       "      <td>estados unidos nacionpi wawqenchikmi kay texto...</td>\n",
       "    </tr>\n",
       "    <tr>\n",
       "      <th>1</th>\n",
       "      <td>qamqa pasakunankamam wiñaypaqña runata venceru...</td>\n",
       "    </tr>\n",
       "    <tr>\n",
       "      <th>2</th>\n",
       "      <td>jarkay ###&gt;obstruir</td>\n",
       "    </tr>\n",
       "    <tr>\n",
       "      <th>3</th>\n",
       "      <td>imay urataq ###&gt;a qué hora</td>\n",
       "    </tr>\n",
       "    <tr>\n",
       "      <th>4</th>\n",
       "      <td>mana allin ruraqkunam ichaqa kay pachamanta ch...</td>\n",
       "    </tr>\n",
       "  </tbody>\n",
       "</table>\n",
       "</div>"
      ],
      "text/plain": [
       "                                        translations\n",
       "0  estados unidos nacionpi wawqenchikmi kay texto...\n",
       "1  qamqa pasakunankamam wiñaypaqña runata venceru...\n",
       "2                                jarkay ###>obstruir\n",
       "3                         imay urataq ###>a qué hora\n",
       "4  mana allin ruraqkunam ichaqa kay pachamanta ch..."
      ]
     },
     "execution_count": 28,
     "metadata": {},
     "output_type": "execute_result"
    }
   ],
   "source": [
    "train_df.head()"
   ]
  },
  {
   "cell_type": "code",
   "execution_count": 29,
   "metadata": {},
   "outputs": [
    {
     "data": {
      "text/html": [
       "<div>\n",
       "<style scoped>\n",
       "    .dataframe tbody tr th:only-of-type {\n",
       "        vertical-align: middle;\n",
       "    }\n",
       "\n",
       "    .dataframe tbody tr th {\n",
       "        vertical-align: top;\n",
       "    }\n",
       "\n",
       "    .dataframe thead th {\n",
       "        text-align: right;\n",
       "    }\n",
       "</style>\n",
       "<table border=\"1\" class=\"dataframe\">\n",
       "  <thead>\n",
       "    <tr style=\"text-align: right;\">\n",
       "      <th></th>\n",
       "      <th>translations</th>\n",
       "    </tr>\n",
       "  </thead>\n",
       "  <tbody>\n",
       "    <tr>\n",
       "      <th>0</th>\n",
       "      <td>chayta ruwaspanchikmi yanapasunchik diosman ‘ ...</td>\n",
       "    </tr>\n",
       "    <tr>\n",
       "      <th>1</th>\n",
       "      <td>sumaq yachachiyniyoq ###&gt;número especial</td>\n",
       "    </tr>\n",
       "    <tr>\n",
       "      <th>2</th>\n",
       "      <td>kusikunchikmi “diospa samanan punchawman yayku...</td>\n",
       "    </tr>\n",
       "    <tr>\n",
       "      <th>3</th>\n",
       "      <td>###&gt;mire la nota</td>\n",
       "    </tr>\n",
       "    <tr>\n",
       "      <th>4</th>\n",
       "      <td>chaywanpas hinallam diosmanta willakunaypaq at...</td>\n",
       "    </tr>\n",
       "  </tbody>\n",
       "</table>\n",
       "</div>"
      ],
      "text/plain": [
       "                                        translations\n",
       "0  chayta ruwaspanchikmi yanapasunchik diosman ‘ ...\n",
       "1           sumaq yachachiyniyoq ###>número especial\n",
       "2  kusikunchikmi “diospa samanan punchawman yayku...\n",
       "3                                   ###>mire la nota\n",
       "4  chaywanpas hinallam diosmanta willakunaypaq at..."
      ]
     },
     "execution_count": 29,
     "metadata": {},
     "output_type": "execute_result"
    }
   ],
   "source": [
    "val_df.head()"
   ]
  },
  {
   "cell_type": "code",
   "execution_count": 30,
   "metadata": {},
   "outputs": [],
   "source": [
    "train_df.to_csv('dataset/train.csv', index=False)\n",
    "val_df.to_csv('dataset/validation.csv', index=False)"
   ]
  },
  {
   "cell_type": "code",
   "execution_count": 31,
   "metadata": {},
   "outputs": [
    {
     "name": "stderr",
     "output_type": "stream",
     "text": [
      "Generating train split: 145257 examples [00:00, 285045.12 examples/s]\n"
     ]
    }
   ],
   "source": [
    "train_dataset_final = Dataset.from_csv('dataset/train.csv')"
   ]
  },
  {
   "cell_type": "code",
   "execution_count": 32,
   "metadata": {},
   "outputs": [
    {
     "data": {
      "text/plain": [
       "['estados unidos nacionpi wawqenchikmi kay textopa nisqanta kasukurqa ###>un hermano de estados unidos tomó a pecho este consejo',\n",
       " 'qamqa pasakunankamam wiñaypaqña runata vencerunki rikchaynintapas tikraruspaykim paytaqa qarqorunki ###>prevaleces para siempre contra él y se va cambias su apariencia y lo despides',\n",
       " 'jarkay ###>obstruir',\n",
       " 'imay urataq ###>a qué hora',\n",
       " 'mana allin ruraqkunam ichaqa kay pachamanta chinkachisqa kanqaku traicionaqkunam ichaqa qora pilarusqa hina kay pachamanta qechusqa kanqaku ###>pero los impíos serán cortados de la tierra y los pérfidos serán desarraigados de ella']"
      ]
     },
     "execution_count": 32,
     "metadata": {},
     "output_type": "execute_result"
    }
   ],
   "source": [
    "train_dataset_final['translations'][:5]"
   ]
  }
 ],
 "metadata": {
  "kernelspec": {
   "display_name": "Python 3",
   "language": "python",
   "name": "python3"
  },
  "language_info": {
   "codemirror_mode": {
    "name": "ipython",
    "version": 3
   },
   "file_extension": ".py",
   "mimetype": "text/x-python",
   "name": "python",
   "nbconvert_exporter": "python",
   "pygments_lexer": "ipython3",
   "version": "3.10.11"
  }
 },
 "nbformat": 4,
 "nbformat_minor": 2
}
