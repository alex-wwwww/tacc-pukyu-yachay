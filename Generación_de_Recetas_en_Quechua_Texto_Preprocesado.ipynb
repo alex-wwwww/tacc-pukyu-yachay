{
  "nbformat": 4,
  "nbformat_minor": 0,
  "metadata": {
    "colab": {
      "provenance": [],
      "authorship_tag": "ABX9TyOPrrwfalcGjl2y9aEOR9WP"
    },
    "kernelspec": {
      "name": "python3",
      "display_name": "Python 3"
    },
    "language_info": {
      "name": "python"
    }
  },
  "cells": [
    {
      "cell_type": "markdown",
      "source": [
        "# Módulo de Generación de Recetas en Quechua"
      ],
      "metadata": {
        "id": "9J08aBYrgX1X"
      }
    },
    {
      "cell_type": "markdown",
      "source": [
        "Instalación de Dependencias"
      ],
      "metadata": {
        "id": "B2VHADwgP1bK"
      }
    },
    {
      "cell_type": "code",
      "execution_count": null,
      "metadata": {
        "colab": {
          "base_uri": "https://localhost:8080/"
        },
        "id": "k8Idx_nYPvcF",
        "outputId": "a4433619-c1dc-4fc3-bccf-f10eba57be8d"
      },
      "outputs": [
        {
          "output_type": "stream",
          "name": "stdout",
          "text": [
            "Collecting deep-translator\n",
            "  Downloading deep_translator-1.11.4-py3-none-any.whl (42 kB)\n",
            "\u001b[2K     \u001b[90m━━━━━━━━━━━━━━━━━━━━━━━━━━━━━━━━━━━━━━━━\u001b[0m \u001b[32m42.3/42.3 kB\u001b[0m \u001b[31m809.5 kB/s\u001b[0m eta \u001b[36m0:00:00\u001b[0m\n",
            "\u001b[?25hRequirement already satisfied: beautifulsoup4<5.0.0,>=4.9.1 in /usr/local/lib/python3.10/dist-packages (from deep-translator) (4.12.3)\n",
            "Requirement already satisfied: requests<3.0.0,>=2.23.0 in /usr/local/lib/python3.10/dist-packages (from deep-translator) (2.31.0)\n",
            "Requirement already satisfied: soupsieve>1.2 in /usr/local/lib/python3.10/dist-packages (from beautifulsoup4<5.0.0,>=4.9.1->deep-translator) (2.5)\n",
            "Requirement already satisfied: charset-normalizer<4,>=2 in /usr/local/lib/python3.10/dist-packages (from requests<3.0.0,>=2.23.0->deep-translator) (3.3.2)\n",
            "Requirement already satisfied: idna<4,>=2.5 in /usr/local/lib/python3.10/dist-packages (from requests<3.0.0,>=2.23.0->deep-translator) (3.6)\n",
            "Requirement already satisfied: urllib3<3,>=1.21.1 in /usr/local/lib/python3.10/dist-packages (from requests<3.0.0,>=2.23.0->deep-translator) (2.0.7)\n",
            "Requirement already satisfied: certifi>=2017.4.17 in /usr/local/lib/python3.10/dist-packages (from requests<3.0.0,>=2.23.0->deep-translator) (2024.2.2)\n",
            "Installing collected packages: deep-translator\n",
            "Successfully installed deep-translator-1.11.4\n"
          ]
        }
      ],
      "source": [
        "!pip install -U deep-translator"
      ]
    },
    {
      "cell_type": "code",
      "source": [
        "from deep_translator import GoogleTranslator\n",
        "import re\n",
        "import os"
      ],
      "metadata": {
        "id": "tp8DyC0ARkwE"
      },
      "execution_count": null,
      "outputs": []
    },
    {
      "cell_type": "markdown",
      "source": [
        "Definimos las funciones de preprocesamiento y para traducir el texto"
      ],
      "metadata": {
        "id": "1P_xLH_OgfsO"
      }
    },
    {
      "cell_type": "code",
      "source": [
        "def quy_translator(text):\n",
        "  return GoogleTranslator(source='es', target='qu').translate(text)"
      ],
      "metadata": {
        "id": "TqwHw7iTP8eA"
      },
      "execution_count": null,
      "outputs": []
    },
    {
      "cell_type": "code",
      "source": [
        "def f_obtener_texto(ruta_receta):\n",
        "    # Read the text from the file\n",
        "    with open(ruta_receta, 'r') as file:\n",
        "        text = file.read()\n",
        "\n",
        "    # Split the text into sections based on the markers\n",
        "    sections = text.split('\\n')\n",
        "\n",
        "    # Initialize variables to store the sections\n",
        "    receta = []\n",
        "    ingredientes = []\n",
        "    instrucciones = []\n",
        "\n",
        "    # Iterate through the sections and assign them to the appropriate variables\n",
        "    current_section = None\n",
        "    for line in sections:\n",
        "        if line.startswith('receta'):\n",
        "            current_section = 'Receta'\n",
        "            receta.append(line.lstrip('receta ').strip())\n",
        "            continue\n",
        "        elif line.startswith('ingredientes'):\n",
        "            current_section = 'ingredientes'\n",
        "            first_ing = line.strip('ingredientes').strip()\n",
        "            if first_ing:\n",
        "              ingredientes.append()\n",
        "            continue\n",
        "        elif line.startswith('instrucciones'):\n",
        "            current_section = 'instrucciones'\n",
        "            first_inst = line.strip('instrucciones').strip()\n",
        "            if first_inst:\n",
        "              instrucciones.append(first_ing)\n",
        "            continue\n",
        "\n",
        "        if current_section == 'receta':\n",
        "            receta.append(line)\n",
        "        elif current_section == 'ingredientes':\n",
        "            ingredientes.append(line)\n",
        "        elif current_section == 'instrucciones':\n",
        "            instrucciones.append(line)\n",
        "\n",
        "    # Return the sections\n",
        "    return [receta, ingredientes, instrucciones]\n",
        "\n",
        "def f_traducir_texto(receta, ingredientes, instrucciones):\n",
        "  receta = [quy_translator(r) for r in receta]\n",
        "  ingredientes = [quy_translator(i) for i in ingredientes]\n",
        "  instrucciones = [quy_translator(i) for i in instrucciones]\n",
        "  return [receta, ingredientes, instrucciones]"
      ],
      "metadata": {
        "id": "Ab2RG8imRHBa"
      },
      "execution_count": 148,
      "outputs": []
    },
    {
      "cell_type": "markdown",
      "source": [
        "Testing f_obtener_texto & f_traducir_texto"
      ],
      "metadata": {
        "id": "8Ufq9F7tY4gg"
      }
    },
    {
      "cell_type": "code",
      "source": [
        "ruta_receta = '/content/recetas/Ajiaco de Olluco.txt'\n",
        "receta, ingredientes, instrucciones = f_obtener_texto(ruta_receta)\n",
        "print(\"Receta:\", receta)\n",
        "print(\"Ingredientes:\", ingredientes)\n",
        "print(\"Instrucciones:\", instrucciones)"
      ],
      "metadata": {
        "colab": {
          "base_uri": "https://localhost:8080/"
        },
        "id": "-agdlc9eQNHY",
        "outputId": "eb1ea5d3-90b3-4875-b750-9ab21877ed5f"
      },
      "execution_count": null,
      "outputs": [
        {
          "output_type": "stream",
          "name": "stdout",
          "text": [
            "Receta: ['Ajiaco de Olluco']\n",
            "Ingredientes: ['1 Cebolla Roja', '', 'picada en cuadraditos', '1 Cucharada de Ajo Molido', '1 Cucharada de Palillo', '', 'en polvo', '1 Unidad deMAGGI® Cubo Carne', '1 Cucharada de Aceite Vegetal', '1 Taza de Agua', '3 Tazas de Olluco', '', 'picado', '3 Tajadas de  Queso Fresco', '', 'picado', '1 Lata deIDEAL® CREMOSITA', '2 Huevos', '1 Pizca de Pimienta', '1 Pizca de Comino', '2 Tazas de Arroz cocido']\n",
            "Instrucciones: ['En una olla pequeña, calentar el aceite y dorar la cebolla, el ajo', 'Luego agregar el MAGGI Cubo Carne, el palillo y los otros condimentos', 'Agregar el agua y esperar que hierva', 'Añadir el olluco picado y cocinar a fuego medio por 15 minutos', 'Una vez cocidos, agregar el queso cortado en cubos', 'Finalmente, incorporar 1/4 taza deIDEAL® CREMOSITAy mezclar bien', 'Servir acompañado de 1/2 taza de arroz y 1/2 huevo sancochado']\n"
          ]
        }
      ]
    },
    {
      "cell_type": "code",
      "source": [
        "receta, ingredientes, instrucciones = f_traducir_texto(receta, ingredientes, instrucciones)\n",
        "print(\"Receta QUY:\", receta)\n",
        "print(\"Ingredientes QUY:\", ingredientes)\n",
        "print(\"Instrucciones QUY:\", instrucciones)"
      ],
      "metadata": {
        "colab": {
          "base_uri": "https://localhost:8080/"
        },
        "id": "PLqLenD5QBeH",
        "outputId": "0288d81d-500f-4c41-f462-dddfa33d6d85"
      },
      "execution_count": null,
      "outputs": [
        {
          "output_type": "stream",
          "name": "stdout",
          "text": [
            "Receta QUY: ['Ajiaco de Olluco nisqa']\n",
            "Ingredientes QUY: ['1 Puka Ch’uñu', '', 'tawa kuchuman kuchusqa', '1 Cuchara Ajo ñut’usqa', '1 Cuchara Palillo', '', 'polvo nisqawan ruwasqa', '1 Unidad de MAGGI® Aycha Kubo', '1 Cuchara Aceite Verdura', '1 vaso yaku', '3 Tazas de Olluco', '', 'kuchusqa', '3 Musuq Quesomanta phatmakuna', '', 'kuchusqa', '1 Lata IDEAL® CREMOSITA nisqamanta', '2 uhu', '1 Pinza de Pimienta', '1 Pincha de Comino', '2 Vaso yanusqa arroz']\n",
            "Instrucciones QUY: ['Huch’uy mankapi aceiteta ruphaykachispa ch’uñuta, ajota ima q’illuyachina.', 'Chaymantaqa MAGGI Cubo Aychata, kiru hampita, huk condimentokunatapas yapaykusun.', 'Chay yakuta yapaykuspa timpunanta suyana', 'Chaymanqa olluco phatmasqata churaspa chawpi ninapi 15 minutu yanuna.', 'Huk kuti yanusqaña, chaymanqa queso kuchusqa cubos nisqaman.', 'Tukuyninpiqa, 1/4 taza IDEAL® CREMOSITA nisqawan yapaykusun, hinaspa allinta chaqruna.', '1/2 taza arrozwan, 1/2 timpusqa uhuwan kuska haywarina']\n"
          ]
        }
      ]
    },
    {
      "cell_type": "markdown",
      "source": [
        "## Conversión a Recetas en Quechua"
      ],
      "metadata": {
        "id": "h3imoA7zY6t3"
      }
    },
    {
      "cell_type": "markdown",
      "source": [
        "Cargamos los archivos al entorno local de forma manual en la carpeta /content/"
      ],
      "metadata": {
        "id": "t9un79erYVg3"
      }
    },
    {
      "cell_type": "code",
      "source": [
        "!rm -rf recetas/"
      ],
      "metadata": {
        "id": "dvbKwFFTdfXo"
      },
      "execution_count": null,
      "outputs": []
    },
    {
      "cell_type": "markdown",
      "source": [
        "Creamos una carpeta en la que se van a almacenar las recetas en quechua"
      ],
      "metadata": {
        "id": "IIZSjDPhgrxQ"
      }
    },
    {
      "cell_type": "code",
      "source": [
        "%mkdir recetas_quy"
      ],
      "metadata": {
        "id": "ecDJMmifY2Tn"
      },
      "execution_count": null,
      "outputs": []
    },
    {
      "cell_type": "markdown",
      "source": [
        "Estandarizamos los nombres para evitar conflictos con UTF-8"
      ],
      "metadata": {
        "id": "I3f9kOUoeJ-V"
      }
    },
    {
      "cell_type": "code",
      "source": [
        "def rename_files(recipe_filepaths):\n",
        "    for filepath in recipe_filepaths:\n",
        "        # Extract the directory and file name\n",
        "        directory, filename = os.path.split(filepath)\n",
        "\n",
        "        # Define the new file name\n",
        "        receta, ingredientes, instrucciones = f_obtener_texto(filepath)\n",
        "        new_filename = os.path.join(directory, receta[0]+'.txt')\n",
        "\n",
        "        # Rename the file\n",
        "        os.rename(filepath, new_filename)\n",
        "\n",
        "rename_files('recetas_procesadas/')"
      ],
      "metadata": {
        "id": "BX7kjp4HdYvE"
      },
      "execution_count": null,
      "outputs": []
    },
    {
      "cell_type": "markdown",
      "source": [
        "## Funciones de utilidades para gestionar los archivos .txt\n",
        "- write_quy_file: Crear archivo quy (quechua) para las recetas\n",
        "- retrieve_txt_files: Leer la lista de recetas en español"
      ],
      "metadata": {
        "id": "3EWlB0N9gv82"
      }
    },
    {
      "cell_type": "code",
      "source": [
        "def write_quy_file(receta, ingredientes, instrucciones, output_file):\n",
        "    with open(output_file, 'w') as file:\n",
        "        file.write(\"receta\\n\" + receta[0] + \"\\n\\n\")\n",
        "        file.write(\"ingredientes\\n\")\n",
        "        for ingrediente in ingredientes:\n",
        "            file.write(ingrediente + \"\\n\")\n",
        "        file.write(\"\\ninstrucciones\\n\")\n",
        "        for instruccion in instrucciones:\n",
        "            file.write(instruccion + \"\\n\")\n",
        "\n",
        "def retrieve_txt_files(folder_path):\n",
        "    txt_files = []\n",
        "\n",
        "    for root, dirs, files in os.walk(folder_path):\n",
        "        for file in files:\n",
        "            if file.endswith('.txt'):\n",
        "                txt_files.append(os.path.join(root, file))\n",
        "\n",
        "    return txt_files"
      ],
      "metadata": {
        "id": "sfkQAouNZDx6"
      },
      "execution_count": 158,
      "outputs": []
    },
    {
      "cell_type": "markdown",
      "source": [
        "Obtenemos la sección de folderes"
      ],
      "metadata": {
        "id": "Z2lwWhQLg4ne"
      }
    },
    {
      "cell_type": "code",
      "source": [
        "folder_path = 'recetas_procesadas'\n",
        "recipe_filepaths = retrieve_txt_files(folder_path)\n",
        "recipe_filepaths.sort()"
      ],
      "metadata": {
        "id": "hP5zpKFVgD7K"
      },
      "execution_count": 138,
      "outputs": []
    },
    {
      "cell_type": "code",
      "source": [
        "start = 69\n",
        "end = 137\n",
        "section_recipes = recipe_filepaths[start:end]"
      ],
      "metadata": {
        "id": "jcYY-4byBmw2"
      },
      "execution_count": 145,
      "outputs": []
    },
    {
      "cell_type": "markdown",
      "source": [
        "Testing write_quy"
      ],
      "metadata": {
        "id": "-MxvNikTgFHh"
      }
    },
    {
      "cell_type": "code",
      "source": [
        "write_quy_file(receta, ingredientes, instrucciones, 'recetas_quy/'+receta[0]+'.txt')"
      ],
      "metadata": {
        "id": "JLNQawQ-gHh7"
      },
      "execution_count": null,
      "outputs": []
    },
    {
      "cell_type": "markdown",
      "source": [
        "## Creación de las recetas en quechua\n",
        "Creamos los archivos"
      ],
      "metadata": {
        "id": "3uP97i2GeRrp"
      }
    },
    {
      "cell_type": "code",
      "source": [
        "\n",
        "def create_quy_folder(recipe_filepaths, esp_filepath, quy_filepath):\n",
        "  for recipe_path in recipe_filepaths:\n",
        "    receta, ingredientes, instrucciones = f_obtener_texto(recipe_path)\n",
        "    receta, ingredientes, instrucciones = f_traducir_texto(receta, ingredientes, instrucciones)\n",
        "    recipe_name = recipe_path.lstrip(esp_filepath)\n",
        "    quy_recipe_filepath = quy_filepath + recipe_name\n",
        "    write_quy_file(receta, ingredientes, instrucciones, quy_recipe_filepath)\n",
        "    print(f\"Created file {quy_recipe_filepath}\")\n",
        "\n",
        "\n"
      ],
      "metadata": {
        "id": "IO4ivyqXZ3UE"
      },
      "execution_count": 151,
      "outputs": []
    },
    {
      "cell_type": "code",
      "source": [
        "!rm -rf recetas_quy\n",
        "%mkdir recetas_quy\n",
        "create_quy_folder(section_recipes, 'recetas_procesadas/', 'recetas_quy/')"
      ],
      "metadata": {
        "id": "EC570-WfcW3b",
        "colab": {
          "base_uri": "https://localhost:8080/"
        },
        "outputId": "f2b2840e-5fe9-4c11-aaef-e5283719e77f"
      },
      "execution_count": null,
      "outputs": [
        {
          "output_type": "stream",
          "name": "stdout",
          "text": [
            "Created file recetas_quy/Cau_Cau_de_Pollo.txt\n",
            "Created file recetas_quy/Cañitas_fritas_rellenas_de_crema.txt\n",
            "Created file recetas_quy/Cebiche_de_Pollo.txt\n",
            "Created file recetas_quy/Champiñones_al_ajillo.txt\n",
            "Created file recetas_quy/Chanfainita.txt\n",
            "Created file recetas_quy/Charquican.txt\n"
          ]
        }
      ]
    }
  ]
}