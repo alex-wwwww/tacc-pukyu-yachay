{
  "cells": [
    {
      "cell_type": "markdown",
      "metadata": {
        "id": "9J08aBYrgX1X"
      },
      "source": [
        "# Módulo de Generación de Recetas en Quechua"
      ]
    },
    {
      "cell_type": "markdown",
      "metadata": {
        "id": "B2VHADwgP1bK"
      },
      "source": [
        "Instalación de Dependencias"
      ]
    },
    {
      "cell_type": "code",
      "execution_count": null,
      "metadata": {
        "colab": {
          "base_uri": "https://localhost:8080/"
        },
        "id": "k8Idx_nYPvcF",
        "outputId": "a4433619-c1dc-4fc3-bccf-f10eba57be8d"
      },
      "outputs": [],
      "source": [
        "!pip install -U deep-translator"
      ]
    },
    {
      "cell_type": "code",
      "execution_count": null,
      "metadata": {
        "id": "tp8DyC0ARkwE"
      },
      "outputs": [],
      "source": [
        "from deep_translator import GoogleTranslator\n",
        "import re\n",
        "import os"
      ]
    },
    {
      "cell_type": "markdown",
      "metadata": {
        "id": "1P_xLH_OgfsO"
      },
      "source": [
        "Definimos las funciones de preprocesamiento y para traducir el texto"
      ]
    },
    {
      "cell_type": "code",
      "execution_count": null,
      "metadata": {
        "id": "TqwHw7iTP8eA"
      },
      "outputs": [],
      "source": [
        "def quy_translator(text):\n",
        "  return GoogleTranslator(source='es', target='qu').translate(text)"
      ]
    },
    {
      "cell_type": "code",
      "execution_count": null,
      "metadata": {
        "id": "Ab2RG8imRHBa"
      },
      "outputs": [],
      "source": [
        "def f_obtener_texto(ruta_receta):\n",
        "    # Read the text from the file\n",
        "    with open(ruta_receta, 'r') as file:\n",
        "        text = file.read()\n",
        "\n",
        "    # Split the text into sections based on the markers\n",
        "    sections = text.split('\\n')\n",
        "\n",
        "    # Initialize variables to store the sections\n",
        "    receta = []\n",
        "    ingredientes = []\n",
        "    instrucciones = []\n",
        "\n",
        "    # Iterate through the sections and assign them to the appropriate variables\n",
        "    current_section = None\n",
        "    for line in sections:\n",
        "        if line.startswith('receta'):\n",
        "            current_section = 'Receta'\n",
        "            receta.append(line.lstrip('receta ').strip())\n",
        "            continue\n",
        "        elif line.startswith('ingredientes'):\n",
        "            current_section = 'ingredientes'\n",
        "            first_ing = line.strip('ingredientes').strip()\n",
        "            if first_ing:\n",
        "              ingredientes.append()\n",
        "            continue\n",
        "        elif line.startswith('instrucciones'):\n",
        "            current_section = 'instrucciones'\n",
        "            first_inst = line.strip('instrucciones').strip()\n",
        "            if first_inst:\n",
        "              instrucciones.append(first_ing)\n",
        "            continue\n",
        "\n",
        "        if current_section == 'receta':\n",
        "            receta.append(line)\n",
        "        elif current_section == 'ingredientes':\n",
        "            ingredientes.append(line)\n",
        "        elif current_section == 'instrucciones':\n",
        "            instrucciones.append(line)\n",
        "\n",
        "    # Return the sections\n",
        "    return [receta, ingredientes, instrucciones]\n",
        "\n",
        "def f_traducir_texto(receta, ingredientes, instrucciones):\n",
        "  receta = [quy_translator(r) for r in receta]\n",
        "  ingredientes = [quy_translator(i) for i in ingredientes]\n",
        "  instrucciones = [quy_translator(i) for i in instrucciones]\n",
        "  return [receta, ingredientes, instrucciones]"
      ]
    },
    {
      "cell_type": "markdown",
      "metadata": {
        "id": "8Ufq9F7tY4gg"
      },
      "source": [
        "Testing f_obtener_texto & f_traducir_texto"
      ]
    },
    {
      "cell_type": "code",
      "execution_count": null,
      "metadata": {
        "colab": {
          "base_uri": "https://localhost:8080/"
        },
        "id": "-agdlc9eQNHY",
        "outputId": "eb1ea5d3-90b3-4875-b750-9ab21877ed5f"
      },
      "outputs": [],
      "source": [
        "ruta_receta = '/content/recetas/Ajiaco de Olluco.txt'\n",
        "receta, ingredientes, instrucciones = f_obtener_texto(ruta_receta)\n",
        "print(\"Receta:\", receta)\n",
        "print(\"Ingredientes:\", ingredientes)\n",
        "print(\"Instrucciones:\", instrucciones)"
      ]
    },
    {
      "cell_type": "code",
      "execution_count": null,
      "metadata": {
        "colab": {
          "base_uri": "https://localhost:8080/"
        },
        "id": "PLqLenD5QBeH",
        "outputId": "0288d81d-500f-4c41-f462-dddfa33d6d85"
      },
      "outputs": [],
      "source": [
        "receta, ingredientes, instrucciones = f_traducir_texto(receta, ingredientes, instrucciones)\n",
        "print(\"Receta QUY:\", receta)\n",
        "print(\"Ingredientes QUY:\", ingredientes)\n",
        "print(\"Instrucciones QUY:\", instrucciones)"
      ]
    },
    {
      "cell_type": "markdown",
      "metadata": {
        "id": "h3imoA7zY6t3"
      },
      "source": [
        "## Conversión a Recetas en Quechua"
      ]
    },
    {
      "cell_type": "markdown",
      "metadata": {
        "id": "t9un79erYVg3"
      },
      "source": [
        "Cargamos los archivos al entorno local de forma manual en la carpeta /content/"
      ]
    },
    {
      "cell_type": "code",
      "execution_count": null,
      "metadata": {
        "id": "dvbKwFFTdfXo"
      },
      "outputs": [],
      "source": [
        "!rm -rf recetas/"
      ]
    },
    {
      "cell_type": "markdown",
      "metadata": {
        "id": "IIZSjDPhgrxQ"
      },
      "source": [
        "Creamos una carpeta en la que se van a almacenar las recetas en quechua"
      ]
    },
    {
      "cell_type": "code",
      "execution_count": null,
      "metadata": {
        "id": "ecDJMmifY2Tn"
      },
      "outputs": [],
      "source": [
        "%mkdir recetas_quy"
      ]
    },
    {
      "cell_type": "markdown",
      "metadata": {
        "id": "I3f9kOUoeJ-V"
      },
      "source": [
        "Estandarizamos los nombres para evitar conflictos con UTF-8"
      ]
    },
    {
      "cell_type": "code",
      "execution_count": null,
      "metadata": {
        "id": "BX7kjp4HdYvE"
      },
      "outputs": [],
      "source": [
        "def rename_files(recipe_filepaths):\n",
        "    for filepath in recipe_filepaths:\n",
        "        # Extract the directory and file name\n",
        "        directory, filename = os.path.split(filepath)\n",
        "\n",
        "        # Define the new file name\n",
        "        receta, ingredientes, instrucciones = f_obtener_texto(filepath)\n",
        "        new_filename = os.path.join(directory, receta[0]+'.txt')\n",
        "\n",
        "        # Rename the file\n",
        "        os.rename(filepath, new_filename)\n",
        "\n",
        "rename_files('recetas_procesadas/')"
      ]
    },
    {
      "cell_type": "markdown",
      "metadata": {
        "id": "3EWlB0N9gv82"
      },
      "source": [
        "## Funciones de utilidades para gestionar los archivos .txt\n",
        "- write_quy_file: Crear archivo quy (quechua) para las recetas\n",
        "- retrieve_txt_files: Leer la lista de recetas en español"
      ]
    },
    {
      "cell_type": "code",
      "execution_count": null,
      "metadata": {
        "id": "sfkQAouNZDx6"
      },
      "outputs": [],
      "source": [
        "def write_quy_file(receta, ingredientes, instrucciones, output_file):\n",
        "    with open(output_file, 'w') as file:\n",
        "        file.write(\"receta\\n\" + receta[0] + \"\\n\\n\")\n",
        "        file.write(\"ingredientes\\n\")\n",
        "        for ingrediente in ingredientes:\n",
        "            file.write(ingrediente + \"\\n\")\n",
        "        file.write(\"\\ninstrucciones\\n\")\n",
        "        for instruccion in instrucciones:\n",
        "            file.write(instruccion + \"\\n\")\n",
        "\n",
        "def retrieve_txt_files(folder_path):\n",
        "    txt_files = []\n",
        "\n",
        "    for root, dirs, files in os.walk(folder_path):\n",
        "        for file in files:\n",
        "            if file.endswith('.txt'):\n",
        "                txt_files.append(os.path.join(root, file))\n",
        "\n",
        "    return txt_files"
      ]
    },
    {
      "cell_type": "markdown",
      "metadata": {
        "id": "Z2lwWhQLg4ne"
      },
      "source": [
        "Obtenemos la sección de folderes"
      ]
    },
    {
      "cell_type": "code",
      "execution_count": null,
      "metadata": {
        "id": "hP5zpKFVgD7K"
      },
      "outputs": [],
      "source": [
        "folder_path = 'recetas_procesadas'\n",
        "recipe_filepaths = retrieve_txt_files(folder_path)\n",
        "recipe_filepaths.sort()"
      ]
    },
    {
      "cell_type": "code",
      "execution_count": null,
      "metadata": {
        "id": "jcYY-4byBmw2"
      },
      "outputs": [],
      "source": [
        "start = 138\n",
        "end = 205\n",
        "section_recipes = recipe_filepaths[start:end]"
      ]
    },
    {
      "cell_type": "markdown",
      "metadata": {
        "id": "-MxvNikTgFHh"
      },
      "source": [
        "Testing write_quy"
      ]
    },
    {
      "cell_type": "code",
      "execution_count": null,
      "metadata": {
        "id": "JLNQawQ-gHh7"
      },
      "outputs": [],
      "source": [
        "write_quy_file(receta, ingredientes, instrucciones, 'recetas_quy/'+receta[0]+'.txt')"
      ]
    },
    {
      "cell_type": "markdown",
      "metadata": {
        "id": "3uP97i2GeRrp"
      },
      "source": [
        "## Creación de las recetas en quechua\n",
        "Creamos los archivos"
      ]
    },
    {
      "cell_type": "code",
      "execution_count": null,
      "metadata": {
        "id": "IO4ivyqXZ3UE"
      },
      "outputs": [],
      "source": [
        "\n",
        "def create_quy_folder(recipe_filepaths, esp_filepath, quy_filepath):\n",
        "  for recipe_path in recipe_filepaths:\n",
        "    receta, ingredientes, instrucciones = f_obtener_texto(recipe_path)\n",
        "    receta, ingredientes, instrucciones = f_traducir_texto(receta, ingredientes, instrucciones)\n",
        "    recipe_name = recipe_path.lstrip(esp_filepath)\n",
        "    quy_recipe_filepath = quy_filepath + recipe_name\n",
        "    try:\n",
        "      write_quy_file(receta, ingredientes, instrucciones, quy_recipe_filepath)\n",
        "    except:\n",
        "      print(f\"error on {recipe_path}, not processed\")\n",
        "    print(f\"Created file {quy_recipe_filepath}\")\n",
        "\n",
        "\n"
      ]
    },
    {
      "cell_type": "code",
      "execution_count": null,
      "metadata": {
        "colab": {
          "base_uri": "https://localhost:8080/"
        },
        "id": "EC570-WfcW3b",
        "outputId": "f2b2840e-5fe9-4c11-aaef-e5283719e77f"
      },
      "outputs": [],
      "source": [
        "!rm -rf recetas_quy\n",
        "%mkdir recetas_quy\n",
        "create_quy_folder(section_recipes, 'recetas_procesadas/', 'recetas_quy/')"
      ]
    }
  ],
  "metadata": {
    "colab": {
      "authorship_tag": "ABX9TyOPrrwfalcGjl2y9aEOR9WP",
      "provenance": []
    },
    "kernelspec": {
      "display_name": "Python 3",
      "name": "python3"
    },
    "language_info": {
      "codemirror_mode": {
        "name": "ipython",
        "version": 3
      },
      "file_extension": ".py",
      "mimetype": "text/x-python",
      "name": "python",
      "nbconvert_exporter": "python",
      "pygments_lexer": "ipython3",
      "version": "3.12.3"
    }
  },
  "nbformat": 4,
  "nbformat_minor": 0
}
