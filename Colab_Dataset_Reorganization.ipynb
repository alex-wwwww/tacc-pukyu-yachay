{
 "cells": [
  {
   "cell_type": "code",
   "execution_count": 1,
   "metadata": {},
   "outputs": [],
   "source": [
    "import os\n",
    "import pandas as pd"
   ]
  },
  {
   "cell_type": "code",
   "execution_count": 25,
   "metadata": {},
   "outputs": [
    {
     "name": "stdout",
     "output_type": "stream",
     "text": [
      "count    145257.000000\n",
      "mean         26.558975\n",
      "std          18.314542\n",
      "min           2.000000\n",
      "25%          14.000000\n",
      "50%          24.000000\n",
      "75%          36.000000\n",
      "max        2822.000000\n",
      "Name: Prompt_Length, dtype: float64\n"
     ]
    }
   ],
   "source": [
    "# Read the data from the CSV file\n",
    "data_path = 'dataset'\n",
    "\n",
    "train_file = os.path.join(data_path, 'train.csv')\n",
    "validation_file = os.path.join(data_path, 'validation.csv')\n",
    "\n",
    "train_data = pd.read_csv(train_file, engine='python', index_col=False)\n",
    "validation_data = pd.read_csv(validation_file, engine='python', index_col=False)\n",
    "\n",
    "train_data.columns = ['Output']\n",
    "validation_data.columns = ['Output']\n",
    "\n",
    "def formatting(sample):\n",
    "    # split the input and output\n",
    "    tuple_text = sample['Output'].split('###>')\n",
    "\n",
    "    if len(tuple_text) != 2:\n",
    "        return [\"NO VALID PROMPT INPUT\", \"NO VALID PROMPT OUTPUT\"]\n",
    "    \n",
    "\n",
    "    # return to get input column and output column in the dataframe\n",
    "\n",
    "    return tuple_text\n",
    "\n",
    "new_train = train_data.apply(formatting, axis=1)\n",
    "new_train = pd.DataFrame(new_train.to_list(), columns=['Input', 'Output'])\n",
    "\n",
    "new_validation = validation_data.apply(formatting, axis=1)\n",
    "new_validation = pd.DataFrame(new_validation.to_list(), columns=['Input', 'Output'])\n",
    "\n",
    "def reconstructing(sample):\n",
    "    return [f\"[Input_Prompt] {sample['Input']} [Output_Prompt] {sample['Output']}\"]\n",
    "\n",
    "new_train = new_train.apply(reconstructing, axis=1)\n",
    "new_train = pd.DataFrame(new_train.to_list(), columns=['Prompt'])\n",
    "\n",
    "new_validation = new_validation.apply(reconstructing, axis=1)\n",
    "new_validation = pd.DataFrame(new_validation.to_list(), columns=['Prompt'])\n",
    "\n",
    "#new_train.to_csv('train.csv', index=False)\n",
    "#new_validation.to_csv('validation.csv', index=False)\n",
    "\n",
    "def print_stats_prompt_length(data):\n",
    "    # histogram of the length of the prompt\n",
    "    data['Prompt_Length'] = data['Prompt'].apply(lambda x: len(x.split()))\n",
    "\n",
    "    print(data['Prompt_Length'].describe())\n",
    "\n",
    "print_stats_prompt_length(new_train)\n"
   ]
  }
 ],
 "metadata": {
  "kernelspec": {
   "display_name": "TACC_ENV",
   "language": "python",
   "name": "python3"
  },
  "language_info": {
   "codemirror_mode": {
    "name": "ipython",
    "version": 3
   },
   "file_extension": ".py",
   "mimetype": "text/x-python",
   "name": "python",
   "nbconvert_exporter": "python",
   "pygments_lexer": "ipython3",
   "version": "3.10.12"
  }
 },
 "nbformat": 4,
 "nbformat_minor": 2
}
