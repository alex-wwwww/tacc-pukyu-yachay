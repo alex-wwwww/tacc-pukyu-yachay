{
 "cells": [
  {
   "cell_type": "code",
   "execution_count": 1,
   "metadata": {},
   "outputs": [],
   "source": [
    "#!pip install selenium\n",
    "#!pip install bs4\n",
    "#!pip install PyPDF2\n",
    "#!pip install requests"
   ]
  },
  {
   "cell_type": "code",
   "execution_count": 2,
   "metadata": {},
   "outputs": [],
   "source": [
    "import os\n",
    "import time\n",
    "\n",
    "from bs4 import BeautifulSoup\n",
    "import io\n",
    "from PyPDF2 import PdfFileReader\n",
    "import requests\n",
    "from selenium import webdriver\n",
    "from urllib.request import urlopen\n"
   ]
  },
  {
   "cell_type": "markdown",
   "metadata": {},
   "source": [
    "# Recetas bloque 1"
   ]
  },
  {
   "cell_type": "code",
   "execution_count": 35,
   "metadata": {},
   "outputs": [],
   "source": [
    "PAGE_URL = \"https://www.saboresdehoy.com/recetas\""
   ]
  },
  {
   "cell_type": "code",
   "execution_count": 36,
   "metadata": {},
   "outputs": [],
   "source": [
    "def getLinks(url):\n",
    "    PATIENCE_TIME = 60\n",
    "    driver = webdriver.Chrome(\"C:/Users/Angel/Downloads/chromedriver-win64/chromedriver\")\n",
    "    driver.get(PAGE_URL)\n",
    "    driver.maximize_window()\n",
    "\n",
    "    loadMoreButton = driver.find_element_by_xpath(\"//div[@id='barracookies']/a[1]\")\n",
    "    time.sleep(2)\n",
    "    loadMoreButton.click()\n",
    "\n",
    "    while True:\n",
    "        try:\n",
    "            loadMoreButton = driver.find_element_by_id(\"loadMore\")\n",
    "            time.sleep(2)\n",
    "            loadMoreButton.click()\n",
    "            time.sleep(5)\n",
    "        except Exception as e:\n",
    "            print(e)\n",
    "            break\n",
    "\n",
    "    time.sleep(10)\n",
    "\n",
    "    links = []\n",
    "\n",
    "    links_elements = driver.find_elements_by_xpath(\"//a[contains(@href,'recetas/')]\")\n",
    "\n",
    "    for link in links_elements:\n",
    "        links.append(link.get_attribute(\"href\"))\n",
    "    \n",
    "    driver.quit()\n",
    "\n",
    "    return(set(links))"
   ]
  },
  {
   "cell_type": "code",
   "execution_count": 5,
   "metadata": {},
   "outputs": [],
   "source": [
    "def getRecipe(url):\n",
    "    page = urlopen(url)\n",
    "    soup = BeautifulSoup(page, \"html.parser\")\n",
    "    \n",
    "    nombre_tag = soup.find(\"span\", attrs={\"class\": \"titulo\"})\n",
    "    nombre = nombre_tag.text.strip()\n",
    "    \n",
    "    listado_ingredientes = soup.find_all(\"span\", attrs={\"itemprop\": \"ingredients\"})\n",
    "    ingredientes = [ingrediente.text.strip() for ingrediente in listado_ingredientes]\n",
    "    \n",
    "    instrucciones_tag = soup.find(\"span\", attrs={\"class\": \"ingredientes\", \"itemprop\": \"recipeInstructions\"})\n",
    "    instrucciones = [p_tag.text.strip() for p_tag in instrucciones_tag.find_all(\"p\")] if instrucciones_tag else []\n",
    "    \n",
    "    return nombre, ingredientes, instrucciones"
   ]
  },
  {
   "cell_type": "code",
   "execution_count": 6,
   "metadata": {},
   "outputs": [
    {
     "name": "stdout",
     "output_type": "stream",
     "text": [
      "Message: element not interactable\n",
      "  (Session info: chrome=124.0.6367.119)\n",
      "\n"
     ]
    }
   ],
   "source": [
    "url_recetas = getLinks(PAGE_URL)    "
   ]
  },
  {
   "cell_type": "code",
   "execution_count": 13,
   "metadata": {},
   "outputs": [],
   "source": [
    "os.makedirs(\"recetas\", exist_ok=True)\n",
    "\n",
    "for url in url_recetas:\n",
    "    nombre, ingredientes, instrucciones = getRecipe(url)\n",
    "    recipe_name_for_file = nombre.replace(\" \", \"_\").replace(\"/\", \"-\")\n",
    "    recipe_file_path = os.path.join(\"recetas\", \"receta_{}.txt\".format(recipe_name_for_file))\n",
    "    with open(recipe_file_path, \"w\", encoding=\"utf-8\") as file:\n",
    "        file.write(\"Receta: {}\\n\".format(nombre))\n",
    "        file.write(\"Ingredientes:\\n\")\n",
    "        for ingredient in ingredientes:\n",
    "            file.write(\"- {}\\n\".format(ingredient))\n",
    "        file.write(\"Instrucciones:\\n\")\n",
    "        for instruccion in instrucciones:\n",
    "            file.write(\"{}\\n\".format(instruccion))"
   ]
  },
  {
   "cell_type": "markdown",
   "metadata": {},
   "source": [
    "# Recetas bloque 2"
   ]
  },
  {
   "cell_type": "code",
   "execution_count": 2,
   "metadata": {},
   "outputs": [],
   "source": [
    "PAGE_URL = \"https://www.recetasnestle.com.pe/categorias/sazon-peruana\""
   ]
  },
  {
   "cell_type": "code",
   "execution_count": 3,
   "metadata": {},
   "outputs": [],
   "source": [
    "def getLinks(url):\n",
    "    PATIENCE_TIME = 60\n",
    "    driver = webdriver.Chrome(\"C:/Users/Angel/Downloads/chromedriver-win64/chromedriver\")\n",
    "    driver.get(PAGE_URL)\n",
    "    driver.maximize_window()\n",
    "\n",
    "    while True:\n",
    "        try:\n",
    "            loadMoreButton = driver.find_element_by_id(\"load_more\")\n",
    "            time.sleep(2)\n",
    "            loadMoreButton.click()\n",
    "            time.sleep(5)\n",
    "        except Exception as e:\n",
    "            print(e)\n",
    "            break\n",
    "\n",
    "    time.sleep(10)\n",
    "\n",
    "    links = []\n",
    "\n",
    "    links_elements = driver.find_elements_by_xpath(\"//a[contains(@href,'recetas/')]\")\n",
    "\n",
    "    for link in links_elements:\n",
    "        links.append(link.get_attribute(\"href\"))\n",
    "        \n",
    "    driver.quit()\n",
    "\n",
    "    return(set(links))\n"
   ]
  },
  {
   "cell_type": "code",
   "execution_count": 4,
   "metadata": {},
   "outputs": [],
   "source": [
    "def getRecipe(url):\n",
    "    page = urlopen(url)\n",
    "    soup = BeautifulSoup(page, \"html.parser\")\n",
    "\n",
    "    nombre = soup.find('h1', class_='hl-1').text.strip()\n",
    "\n",
    "    listado_ingredientes = soup.find('div', class_='recipeDetail__ingredients').find_all('li')\n",
    "    ingredientes = [ingrediente.get_text(strip=True) for ingrediente in listado_ingredientes]\n",
    "\n",
    "    steps_container = soup.find('div', class_='recipeDetail__steps')\n",
    "    step_items = steps_container.find_all('div', class_='recipeDetail__stepItem')\n",
    "    instrucciones = []\n",
    "    for step_item in step_items:\n",
    "        # Find the step text\n",
    "        step_text = step_item.find('div').get_text(strip=True)\n",
    "        instrucciones.append(step_text)\n",
    "    return nombre, ingredientes, instrucciones\n"
   ]
  },
  {
   "cell_type": "code",
   "execution_count": 5,
   "metadata": {},
   "outputs": [
    {
     "name": "stdout",
     "output_type": "stream",
     "text": [
      "Message: element click intercepted: Element is not clickable at point (951, 1899)\n",
      "  (Session info: chrome=124.0.6367.119)\n",
      "\n"
     ]
    }
   ],
   "source": [
    "url_recetas = getLinks(PAGE_URL)"
   ]
  },
  {
   "cell_type": "code",
   "execution_count": 6,
   "metadata": {},
   "outputs": [],
   "source": [
    "os.makedirs(\"recetas2\", exist_ok=True)\n",
    "\n",
    "for url in url_recetas:\n",
    "    nombre, ingredientes, instrucciones = getRecipe(url)\n",
    "    recipe_name_for_file = nombre.replace(\" \", \"_\").replace(\"/\", \"-\")\n",
    "    recipe_file_path = os.path.join(\"recetas2\", \"receta_{}.txt\".format(recipe_name_for_file))\n",
    "    with open(recipe_file_path, \"w\", encoding=\"utf-8\") as file:\n",
    "        file.write(\"Receta: {}\\n\".format(nombre))\n",
    "        file.write(\"Ingredientes:\\n\")\n",
    "        for ingredient in ingredientes:\n",
    "            file.write(\"- {}\\n\".format(ingredient))\n",
    "        file.write(\"Instrucciones:\\n\")\n",
    "        for instruccion in instrucciones:\n",
    "            file.write(\"{}\\n\".format(instruccion))"
   ]
  }
 ],
 "metadata": {
  "kernelspec": {
   "display_name": "Python 3",
   "language": "python",
   "name": "python3"
  },
  "language_info": {
   "codemirror_mode": {
    "name": "ipython",
    "version": 3
   },
   "file_extension": ".py",
   "mimetype": "text/x-python",
   "name": "python",
   "nbconvert_exporter": "python",
   "pygments_lexer": "ipython3",
   "version": "3.7.12"
  }
 },
 "nbformat": 4,
 "nbformat_minor": 2
}
